{
 "cells": [
  {
   "cell_type": "code",
   "execution_count": 1,
   "id": "3252bebd",
   "metadata": {},
   "outputs": [],
   "source": [
    "#📦 Step 1: Load Cleaned Data\n",
    "import pandas as pd\n",
    "\n",
    "benin = pd.read_csv(\"../Data/benin_cleaned.csv\", parse_dates=[\"Timestamp\"])\n",
    "sierra = pd.read_csv(\"../Data/sierraleone_cleaned.csv\", parse_dates=[\"Timestamp\"])\n",
    "togo = pd.read_csv(\"../Data/togo_cleaned.csv\", parse_dates=[\"Timestamp\"])\n",
    "\n",
    "benin[\"Country\"] = \"Benin\"\n",
    "sierra[\"Country\"] = \"Sierra Leone\"\n",
    "togo[\"Country\"] = \"Togo\"\n",
    "\n",
    "df_all = pd.concat([benin, sierra, togo], ignore_index=True)\n"
   ]
  },
  {
   "cell_type": "code",
   "execution_count": null,
   "id": "961263ec",
   "metadata": {},
   "outputs": [],
   "source": [
    "#📊 Step 2: Metric Comparison - Boxplots\n",
    "import seaborn as sns\n",
    "import matplotlib.pyplot as plt\n",
    "\n",
    "metrics = [\"GHI\", \"DNI\", \"DHI\"]\n",
    "for metric in metrics:\n",
    "    plt.figure(figsize=(8, 5))\n",
    "    sns.boxplot(data=df_all, x=\"Country\", y=metric)\n",
    "    plt.title(f\"{metric} Comparison by Country\")\n",
    "    plt.ylabel(f\"{metric} (W/m²)\")\n",
    "    plt.grid(True)\n",
    "    plt.show()\n"
   ]
  }
 ],
 "metadata": {
  "kernelspec": {
   "display_name": "Python 3",
   "language": "python",
   "name": "python3"
  },
  "language_info": {
   "codemirror_mode": {
    "name": "ipython",
    "version": 3
   },
   "file_extension": ".py",
   "mimetype": "text/x-python",
   "name": "python",
   "nbconvert_exporter": "python",
   "pygments_lexer": "ipython3",
   "version": "3.13.2"
  }
 },
 "nbformat": 4,
 "nbformat_minor": 5
}
