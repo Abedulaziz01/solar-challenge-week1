{
 "cells": [
  {
   "cell_type": "code",
   "execution_count": null,
   "id": "3252bebd",
   "metadata": {},
   "outputs": [],
   "source": [
    "import pandas as pd\n",
    "import numpy as np\n",
    "import matplotlib.pyplot as plt\n",
    "import seaborn as sns\n",
    "from scipy import stats\n",
    "import plotly.express as px\n",
    "from windrose import WindroseAxes\n",
    "\n",
    "# Set visualization style\n",
    "\n",
    "\n",
    "# Load the data (replace with your actual filename)\n",
    "\n",
    "df = pd.read_csv('../Data/togo.csv', parse_dates=['Timestamp'])\n",
    "# ...existing code...\n",
    "# Set timestamp as index\n",
    "df.set_index('Timestamp', inplace=True)\n",
    "\n",
    "# Display initial info\n",
    "print(\"Initial Data Overview:\")\n",
    "print(f\"Shape: {df.shape}\")\n",
    "print(\"\\nData Types:\")\n",
    "print(df.dtypes)"
   ]
  }
 ],
 "metadata": {
  "language_info": {
   "name": "python"
  }
 },
 "nbformat": 4,
 "nbformat_minor": 5
}
