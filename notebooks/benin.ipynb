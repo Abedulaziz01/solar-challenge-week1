{
 "cells": [
  {
   "cell_type": "code",
   "execution_count": 5,
   "id": "3a50f3b5",
   "metadata": {},
   "outputs": [
    {
     "name": "stdout",
     "output_type": "stream",
     "text": [
      "Initial Data Overview:\n",
      "Shape: (525600, 18)\n",
      "\n",
      "Data Types:\n",
      "GHI              float64\n",
      "DNI              float64\n",
      "DHI              float64\n",
      "ModA             float64\n",
      "ModB             float64\n",
      "Tamb             float64\n",
      "RH               float64\n",
      "WS               float64\n",
      "WSgust           float64\n",
      "WSstdev          float64\n",
      "WD               float64\n",
      "WDstdev          float64\n",
      "BP                 int64\n",
      "Cleaning           int64\n",
      "Precipitation    float64\n",
      "TModA            float64\n",
      "TModB            float64\n",
      "Comments         float64\n",
      "dtype: object\n"
     ]
    }
   ],
   "source": [
    "import pandas as pd\n",
    "import numpy as np\n",
    "import matplotlib.pyplot as plt\n",
    "import seaborn as sns\n",
    "from scipy import stats\n",
    "import plotly.express as px\n",
    "from windrose import WindroseAxes\n",
    "\n",
    "# Set visualization style\n",
    "\n",
    "\n",
    "# Load the data (replace with your actual filename)\n",
    "df = pd.read_csv('../Data/benin.csv', parse_dates=['Timestamp'])\n",
    "\n",
    "# Set timestamp as index\n",
    "df.set_index('Timestamp', inplace=True)\n",
    "\n",
    "# Display initial info\n",
    "print(\"Initial Data Overview:\")\n",
    "print(f\"Shape: {df.shape}\")\n",
    "print(\"\\nData Types:\")\n",
    "print(df.dtypes)"
   ]
  }
 ],
 "metadata": {
  "kernelspec": {
   "display_name": ".venv",
   "language": "python",
   "name": "python3"
  },
  "language_info": {
   "codemirror_mode": {
    "name": "ipython",
    "version": 3
   },
   "file_extension": ".py",
   "mimetype": "text/x-python",
   "name": "python",
   "nbconvert_exporter": "python",
   "pygments_lexer": "ipython3",
   "version": "3.13.2"
  }
 },
 "nbformat": 4,
 "nbformat_minor": 5
}
